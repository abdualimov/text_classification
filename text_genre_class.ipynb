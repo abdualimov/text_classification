{
  "nbformat": 4,
  "nbformat_minor": 0,
  "metadata": {
    "colab": {
      "name": "text_genre_class.ipynb",
      "provenance": [],
      "collapsed_sections": []
    },
    "kernelspec": {
      "name": "python3",
      "display_name": "Python 3"
    },
    "accelerator": "GPU"
  },
  "cells": [
    {
      "cell_type": "code",
      "metadata": {
        "id": "EnovIlJD3v35",
        "colab_type": "code",
        "colab": {
          "base_uri": "https://localhost:8080/",
          "height": 578
        },
        "outputId": "83abaf84-ff11-47f7-ef3d-fa620ae24ee2"
      },
      "source": [
        "!pip install kaggle\n",
        "!mkdir .kaggle\n",
        "\n",
        "import json\n",
        "token = {\"username\":\"......\",\"key\":\".......\"}\n",
        "with open('/content/.kaggle/kaggle.json', 'w') as file:\n",
        "    json.dump(token, file)\n",
        "\n",
        "!cp /content/.kaggle/kaggle.json ~/.kaggle/kaggle.json\n",
        "!kaggle config set -n path -v{/content}\n",
        "!chmod 600 /root/.kaggle/kaggle.json\n",
        "print('Скачиваю датасеты')\n",
        "!kaggle competitions download -c sf-dl-movie-genre-classification -p /content\n",
        "!ls"
      ],
      "execution_count": 2,
      "outputs": [
        {
          "output_type": "stream",
          "text": [
            "Requirement already satisfied: kaggle in /usr/local/lib/python3.6/dist-packages (1.5.6)\n",
            "Requirement already satisfied: urllib3<1.25,>=1.21.1 in /usr/local/lib/python3.6/dist-packages (from kaggle) (1.24.3)\n",
            "Requirement already satisfied: six>=1.10 in /usr/local/lib/python3.6/dist-packages (from kaggle) (1.12.0)\n",
            "Requirement already satisfied: certifi in /usr/local/lib/python3.6/dist-packages (from kaggle) (2020.4.5.1)\n",
            "Requirement already satisfied: python-slugify in /usr/local/lib/python3.6/dist-packages (from kaggle) (4.0.0)\n",
            "Requirement already satisfied: tqdm in /usr/local/lib/python3.6/dist-packages (from kaggle) (4.38.0)\n",
            "Requirement already satisfied: requests in /usr/local/lib/python3.6/dist-packages (from kaggle) (2.23.0)\n",
            "Requirement already satisfied: python-dateutil in /usr/local/lib/python3.6/dist-packages (from kaggle) (2.8.1)\n",
            "Requirement already satisfied: text-unidecode>=1.3 in /usr/local/lib/python3.6/dist-packages (from python-slugify->kaggle) (1.3)\n",
            "Requirement already satisfied: idna<3,>=2.5 in /usr/local/lib/python3.6/dist-packages (from requests->kaggle) (2.9)\n",
            "Requirement already satisfied: chardet<4,>=3.0.2 in /usr/local/lib/python3.6/dist-packages (from requests->kaggle) (3.0.4)\n",
            "mkdir: cannot create directory ‘.kaggle’: File exists\n",
            "Warning: Your Kaggle API key is readable by other users on this system! To fix this, you can run 'chmod 600 /root/.kaggle/kaggle.json'\n",
            "- path is now set to: {/content}\n",
            "Скачиваю датасеты\n",
            "Warning: Looks like you're using an outdated API Version, please consider updating (server 1.5.6 / client 1.5.4)\n",
            "Downloading sample-submission.csv to /content\n",
            "  0% 0.00/718k [00:00<?, ?B/s]\n",
            "100% 718k/718k [00:00<00:00, 47.4MB/s]\n",
            "Downloading train_data.txt.zip to /content\n",
            " 36% 5.00M/13.9M [00:00<00:00, 21.3MB/s]\n",
            "100% 13.9M/13.9M [00:00<00:00, 46.5MB/s]\n",
            "Downloading test_data.txt.zip to /content\n",
            " 36% 5.00M/13.8M [00:00<00:00, 34.6MB/s]\n",
            "100% 13.8M/13.8M [00:00<00:00, 54.8MB/s]\n",
            "Downloading test.csv.zip to /content\n",
            " 37% 5.00M/13.7M [00:00<00:00, 20.1MB/s]\n",
            "100% 13.7M/13.7M [00:00<00:00, 45.6MB/s]\n",
            "Downloading train.csv.zip to /content\n",
            " 65% 9.00M/13.8M [00:00<00:00, 22.3MB/s]\n",
            "100% 13.8M/13.8M [00:00<00:00, 31.1MB/s]\n",
            "sample_data\t       test.csv.zip\t  train.csv.zip\n",
            "sample-submission.csv  test_data.txt.zip  train_data.txt.zip\n"
          ],
          "name": "stdout"
        }
      ]
    },
    {
      "cell_type": "code",
      "metadata": {
        "id": "B3Dj7JZn9uBR",
        "colab_type": "code",
        "colab": {}
      },
      "source": [
        "import random\n",
        "import numpy as np # linear algebra\n",
        "import pandas as pd # data processing, CSV file I/O (e.g. pd.read_csv)\n",
        "\n",
        "import tensorflow as tf\n",
        "from tensorflow.keras.layers import *\n",
        "from tensorflow.keras.models import Model\n",
        "import tensorflow_hub as hub"
      ],
      "execution_count": 0,
      "outputs": []
    },
    {
      "cell_type": "code",
      "metadata": {
        "id": "IC_KzFhI6wGH",
        "colab_type": "code",
        "colab": {}
      },
      "source": [
        "train = pd.read_csv('train.csv.zip')"
      ],
      "execution_count": 0,
      "outputs": []
    },
    {
      "cell_type": "code",
      "metadata": {
        "id": "MbI146fLHIgm",
        "colab_type": "code",
        "colab": {}
      },
      "source": [
        "test = pd.read_csv('test.csv.zip')"
      ],
      "execution_count": 0,
      "outputs": []
    },
    {
      "cell_type": "code",
      "metadata": {
        "id": "tJILwZMQAiJH",
        "colab_type": "code",
        "colab": {
          "base_uri": "https://localhost:8080/",
          "height": 34
        },
        "outputId": "c4206bbb-6731-440a-822d-08fca5c5910c"
      },
      "source": [
        "len(train['text'])"
      ],
      "execution_count": 44,
      "outputs": [
        {
          "output_type": "execute_result",
          "data": {
            "text/plain": [
              "54214"
            ]
          },
          "metadata": {
            "tags": []
          },
          "execution_count": 44
        }
      ]
    },
    {
      "cell_type": "code",
      "metadata": {
        "id": "o8zc6-Dw42ci",
        "colab_type": "code",
        "colab": {
          "base_uri": "https://localhost:8080/",
          "height": 476
        },
        "outputId": "c907fd08-32e6-49c5-a2db-ca0644b28aef"
      },
      "source": [
        "classes =  list(set(train.genre))\n",
        "classes"
      ],
      "execution_count": 45,
      "outputs": [
        {
          "output_type": "execute_result",
          "data": {
            "text/plain": [
              "['history',\n",
              " 'fantasy',\n",
              " 'adult',\n",
              " 'romance',\n",
              " 'game-show',\n",
              " 'news',\n",
              " 'war',\n",
              " 'drama',\n",
              " 'musical',\n",
              " 'adventure',\n",
              " 'crime',\n",
              " 'thriller',\n",
              " 'western',\n",
              " 'family',\n",
              " 'action',\n",
              " 'documentary',\n",
              " 'sport',\n",
              " 'music',\n",
              " 'animation',\n",
              " 'biography',\n",
              " 'reality-tv',\n",
              " 'short',\n",
              " 'horror',\n",
              " 'mystery',\n",
              " 'sci-fi',\n",
              " 'talk-show',\n",
              " 'comedy']"
            ]
          },
          "metadata": {
            "tags": []
          },
          "execution_count": 45
        }
      ]
    },
    {
      "cell_type": "code",
      "metadata": {
        "id": "ebfCiKDoBHG3",
        "colab_type": "code",
        "colab": {
          "base_uri": "https://localhost:8080/",
          "height": 366
        },
        "outputId": "af8a2451-d0d1-4390-c6c0-245b98777d6a"
      },
      "source": [
        "train = train[['text', 'genre']]\n",
        "train = pd.get_dummies(train, prefix='', prefix_sep='', columns=['genre',])\n",
        "train.to_csv('train_df.csv', index=False)\n",
        "train.head(3)"
      ],
      "execution_count": 7,
      "outputs": [
        {
          "output_type": "execute_result",
          "data": {
            "text/html": [
              "<div>\n",
              "<style scoped>\n",
              "    .dataframe tbody tr th:only-of-type {\n",
              "        vertical-align: middle;\n",
              "    }\n",
              "\n",
              "    .dataframe tbody tr th {\n",
              "        vertical-align: top;\n",
              "    }\n",
              "\n",
              "    .dataframe thead th {\n",
              "        text-align: right;\n",
              "    }\n",
              "</style>\n",
              "<table border=\"1\" class=\"dataframe\">\n",
              "  <thead>\n",
              "    <tr style=\"text-align: right;\">\n",
              "      <th></th>\n",
              "      <th>text</th>\n",
              "      <th>action</th>\n",
              "      <th>adult</th>\n",
              "      <th>adventure</th>\n",
              "      <th>animation</th>\n",
              "      <th>biography</th>\n",
              "      <th>comedy</th>\n",
              "      <th>crime</th>\n",
              "      <th>documentary</th>\n",
              "      <th>drama</th>\n",
              "      <th>family</th>\n",
              "      <th>fantasy</th>\n",
              "      <th>game-show</th>\n",
              "      <th>history</th>\n",
              "      <th>horror</th>\n",
              "      <th>music</th>\n",
              "      <th>musical</th>\n",
              "      <th>mystery</th>\n",
              "      <th>news</th>\n",
              "      <th>reality-tv</th>\n",
              "      <th>romance</th>\n",
              "      <th>sci-fi</th>\n",
              "      <th>short</th>\n",
              "      <th>sport</th>\n",
              "      <th>talk-show</th>\n",
              "      <th>thriller</th>\n",
              "      <th>war</th>\n",
              "      <th>western</th>\n",
              "    </tr>\n",
              "  </thead>\n",
              "  <tbody>\n",
              "    <tr>\n",
              "      <th>0</th>\n",
              "      <td>Listening in to a conversation between his do...</td>\n",
              "      <td>0</td>\n",
              "      <td>0</td>\n",
              "      <td>0</td>\n",
              "      <td>0</td>\n",
              "      <td>0</td>\n",
              "      <td>0</td>\n",
              "      <td>0</td>\n",
              "      <td>0</td>\n",
              "      <td>1</td>\n",
              "      <td>0</td>\n",
              "      <td>0</td>\n",
              "      <td>0</td>\n",
              "      <td>0</td>\n",
              "      <td>0</td>\n",
              "      <td>0</td>\n",
              "      <td>0</td>\n",
              "      <td>0</td>\n",
              "      <td>0</td>\n",
              "      <td>0</td>\n",
              "      <td>0</td>\n",
              "      <td>0</td>\n",
              "      <td>0</td>\n",
              "      <td>0</td>\n",
              "      <td>0</td>\n",
              "      <td>0</td>\n",
              "      <td>0</td>\n",
              "      <td>0</td>\n",
              "    </tr>\n",
              "    <tr>\n",
              "      <th>1</th>\n",
              "      <td>A brother and sister with a past incestuous r...</td>\n",
              "      <td>0</td>\n",
              "      <td>0</td>\n",
              "      <td>0</td>\n",
              "      <td>0</td>\n",
              "      <td>0</td>\n",
              "      <td>0</td>\n",
              "      <td>0</td>\n",
              "      <td>0</td>\n",
              "      <td>0</td>\n",
              "      <td>0</td>\n",
              "      <td>0</td>\n",
              "      <td>0</td>\n",
              "      <td>0</td>\n",
              "      <td>0</td>\n",
              "      <td>0</td>\n",
              "      <td>0</td>\n",
              "      <td>0</td>\n",
              "      <td>0</td>\n",
              "      <td>0</td>\n",
              "      <td>0</td>\n",
              "      <td>0</td>\n",
              "      <td>0</td>\n",
              "      <td>0</td>\n",
              "      <td>0</td>\n",
              "      <td>1</td>\n",
              "      <td>0</td>\n",
              "      <td>0</td>\n",
              "    </tr>\n",
              "    <tr>\n",
              "      <th>2</th>\n",
              "      <td>As the bus empties the students for their fie...</td>\n",
              "      <td>0</td>\n",
              "      <td>1</td>\n",
              "      <td>0</td>\n",
              "      <td>0</td>\n",
              "      <td>0</td>\n",
              "      <td>0</td>\n",
              "      <td>0</td>\n",
              "      <td>0</td>\n",
              "      <td>0</td>\n",
              "      <td>0</td>\n",
              "      <td>0</td>\n",
              "      <td>0</td>\n",
              "      <td>0</td>\n",
              "      <td>0</td>\n",
              "      <td>0</td>\n",
              "      <td>0</td>\n",
              "      <td>0</td>\n",
              "      <td>0</td>\n",
              "      <td>0</td>\n",
              "      <td>0</td>\n",
              "      <td>0</td>\n",
              "      <td>0</td>\n",
              "      <td>0</td>\n",
              "      <td>0</td>\n",
              "      <td>0</td>\n",
              "      <td>0</td>\n",
              "      <td>0</td>\n",
              "    </tr>\n",
              "  </tbody>\n",
              "</table>\n",
              "</div>"
            ],
            "text/plain": [
              "                                                text  action  ...  war  western\n",
              "0   Listening in to a conversation between his do...       0  ...    0        0\n",
              "1   A brother and sister with a past incestuous r...       0  ...    0        0\n",
              "2   As the bus empties the students for their fie...       0  ...    0        0\n",
              "\n",
              "[3 rows x 28 columns]"
            ]
          },
          "metadata": {
            "tags": []
          },
          "execution_count": 7
        }
      ]
    },
    {
      "cell_type": "code",
      "metadata": {
        "id": "Mv3MyvMLBTYZ",
        "colab_type": "code",
        "colab": {
          "base_uri": "https://localhost:8080/",
          "height": 179
        },
        "outputId": "87f205b7-7c9c-4458-aa3e-7c33a9ea22c2"
      },
      "source": [
        "train.iloc[:3,1:]"
      ],
      "execution_count": 8,
      "outputs": [
        {
          "output_type": "execute_result",
          "data": {
            "text/html": [
              "<div>\n",
              "<style scoped>\n",
              "    .dataframe tbody tr th:only-of-type {\n",
              "        vertical-align: middle;\n",
              "    }\n",
              "\n",
              "    .dataframe tbody tr th {\n",
              "        vertical-align: top;\n",
              "    }\n",
              "\n",
              "    .dataframe thead th {\n",
              "        text-align: right;\n",
              "    }\n",
              "</style>\n",
              "<table border=\"1\" class=\"dataframe\">\n",
              "  <thead>\n",
              "    <tr style=\"text-align: right;\">\n",
              "      <th></th>\n",
              "      <th>action</th>\n",
              "      <th>adult</th>\n",
              "      <th>adventure</th>\n",
              "      <th>animation</th>\n",
              "      <th>biography</th>\n",
              "      <th>comedy</th>\n",
              "      <th>crime</th>\n",
              "      <th>documentary</th>\n",
              "      <th>drama</th>\n",
              "      <th>family</th>\n",
              "      <th>fantasy</th>\n",
              "      <th>game-show</th>\n",
              "      <th>history</th>\n",
              "      <th>horror</th>\n",
              "      <th>music</th>\n",
              "      <th>musical</th>\n",
              "      <th>mystery</th>\n",
              "      <th>news</th>\n",
              "      <th>reality-tv</th>\n",
              "      <th>romance</th>\n",
              "      <th>sci-fi</th>\n",
              "      <th>short</th>\n",
              "      <th>sport</th>\n",
              "      <th>talk-show</th>\n",
              "      <th>thriller</th>\n",
              "      <th>war</th>\n",
              "      <th>western</th>\n",
              "    </tr>\n",
              "  </thead>\n",
              "  <tbody>\n",
              "    <tr>\n",
              "      <th>0</th>\n",
              "      <td>0</td>\n",
              "      <td>0</td>\n",
              "      <td>0</td>\n",
              "      <td>0</td>\n",
              "      <td>0</td>\n",
              "      <td>0</td>\n",
              "      <td>0</td>\n",
              "      <td>0</td>\n",
              "      <td>1</td>\n",
              "      <td>0</td>\n",
              "      <td>0</td>\n",
              "      <td>0</td>\n",
              "      <td>0</td>\n",
              "      <td>0</td>\n",
              "      <td>0</td>\n",
              "      <td>0</td>\n",
              "      <td>0</td>\n",
              "      <td>0</td>\n",
              "      <td>0</td>\n",
              "      <td>0</td>\n",
              "      <td>0</td>\n",
              "      <td>0</td>\n",
              "      <td>0</td>\n",
              "      <td>0</td>\n",
              "      <td>0</td>\n",
              "      <td>0</td>\n",
              "      <td>0</td>\n",
              "    </tr>\n",
              "    <tr>\n",
              "      <th>1</th>\n",
              "      <td>0</td>\n",
              "      <td>0</td>\n",
              "      <td>0</td>\n",
              "      <td>0</td>\n",
              "      <td>0</td>\n",
              "      <td>0</td>\n",
              "      <td>0</td>\n",
              "      <td>0</td>\n",
              "      <td>0</td>\n",
              "      <td>0</td>\n",
              "      <td>0</td>\n",
              "      <td>0</td>\n",
              "      <td>0</td>\n",
              "      <td>0</td>\n",
              "      <td>0</td>\n",
              "      <td>0</td>\n",
              "      <td>0</td>\n",
              "      <td>0</td>\n",
              "      <td>0</td>\n",
              "      <td>0</td>\n",
              "      <td>0</td>\n",
              "      <td>0</td>\n",
              "      <td>0</td>\n",
              "      <td>0</td>\n",
              "      <td>1</td>\n",
              "      <td>0</td>\n",
              "      <td>0</td>\n",
              "    </tr>\n",
              "    <tr>\n",
              "      <th>2</th>\n",
              "      <td>0</td>\n",
              "      <td>1</td>\n",
              "      <td>0</td>\n",
              "      <td>0</td>\n",
              "      <td>0</td>\n",
              "      <td>0</td>\n",
              "      <td>0</td>\n",
              "      <td>0</td>\n",
              "      <td>0</td>\n",
              "      <td>0</td>\n",
              "      <td>0</td>\n",
              "      <td>0</td>\n",
              "      <td>0</td>\n",
              "      <td>0</td>\n",
              "      <td>0</td>\n",
              "      <td>0</td>\n",
              "      <td>0</td>\n",
              "      <td>0</td>\n",
              "      <td>0</td>\n",
              "      <td>0</td>\n",
              "      <td>0</td>\n",
              "      <td>0</td>\n",
              "      <td>0</td>\n",
              "      <td>0</td>\n",
              "      <td>0</td>\n",
              "      <td>0</td>\n",
              "      <td>0</td>\n",
              "    </tr>\n",
              "  </tbody>\n",
              "</table>\n",
              "</div>"
            ],
            "text/plain": [
              "   action  adult  adventure  animation  ...  talk-show  thriller  war  western\n",
              "0       0      0          0          0  ...          0         0    0        0\n",
              "1       0      0          0          0  ...          0         1    0        0\n",
              "2       0      1          0          0  ...          0         0    0        0\n",
              "\n",
              "[3 rows x 27 columns]"
            ]
          },
          "metadata": {
            "tags": []
          },
          "execution_count": 8
        }
      ]
    },
    {
      "cell_type": "code",
      "metadata": {
        "id": "kKreiT-05Aox",
        "colab_type": "code",
        "colab": {}
      },
      "source": [
        "embed = hub.load(\"https://tfhub.dev/google/tf2-preview/nnlm-en-dim128/1\")"
      ],
      "execution_count": 0,
      "outputs": []
    },
    {
      "cell_type": "code",
      "metadata": {
        "id": "mAMI8leICYjE",
        "colab_type": "code",
        "colab": {}
      },
      "source": [
        "embedding = \"https://tfhub.dev/google/tf2-preview/nnlm-en-dim128/1\"\n",
        "hub_layer = hub.KerasLayer(embedding, input_shape=[], \n",
        "                           dtype=tf.string, trainable=True)"
      ],
      "execution_count": 0,
      "outputs": []
    },
    {
      "cell_type": "code",
      "metadata": {
        "id": "CszzEckjCprL",
        "colab_type": "code",
        "colab": {
          "base_uri": "https://localhost:8080/",
          "height": 289
        },
        "outputId": "9259c3da-b123-466c-9ce6-956fecee9aee"
      },
      "source": [
        "model = tf.keras.Sequential()\n",
        "model.add(hub_layer)\n",
        "model.add(tf.keras.layers.Dense(128, activation='elu'))\n",
        "model.add(tf.keras.layers.Dense(128, activation='elu'))\n",
        "model.add(tf.keras.layers.Dense(27, activation='softmax'))\n",
        "\n",
        "model.summary()"
      ],
      "execution_count": 31,
      "outputs": [
        {
          "output_type": "stream",
          "text": [
            "Model: \"sequential\"\n",
            "_________________________________________________________________\n",
            "Layer (type)                 Output Shape              Param #   \n",
            "=================================================================\n",
            "keras_layer (KerasLayer)     (None, 128)               124642688 \n",
            "_________________________________________________________________\n",
            "dense (Dense)                (None, 128)               16512     \n",
            "_________________________________________________________________\n",
            "dense_1 (Dense)              (None, 128)               16512     \n",
            "_________________________________________________________________\n",
            "dense_2 (Dense)              (None, 27)                3483      \n",
            "=================================================================\n",
            "Total params: 124,679,195\n",
            "Trainable params: 124,679,195\n",
            "Non-trainable params: 0\n",
            "_________________________________________________________________\n"
          ],
          "name": "stdout"
        }
      ]
    },
    {
      "cell_type": "code",
      "metadata": {
        "id": "uCigDrNY-Yew",
        "colab_type": "code",
        "colab": {}
      },
      "source": [
        "tf.keras.backend.clear_session()\n",
        "model.compile(optimizer='adam',\n",
        "              loss='categorical_crossentropy',\n",
        "              metrics=['accuracy'])"
      ],
      "execution_count": 0,
      "outputs": []
    },
    {
      "cell_type": "code",
      "metadata": {
        "id": "qECSMiXRAtIb",
        "colab_type": "code",
        "colab": {}
      },
      "source": [
        "x_val = train['text'][:5000]\n",
        "partial_x_train = train['text'][5000:]\n",
        "\n",
        "y_val = train.iloc[:5000,1:]\n",
        "partial_y_train = train.iloc[5000:,1:]"
      ],
      "execution_count": 0,
      "outputs": []
    },
    {
      "cell_type": "code",
      "metadata": {
        "id": "qeNJpkzt7eZ3",
        "colab_type": "code",
        "colab": {
          "base_uri": "https://localhost:8080/",
          "height": 357
        },
        "outputId": "9432850d-cd89-40c4-b810-b1aea48ce6da"
      },
      "source": [
        "history = model.fit(partial_x_train,\n",
        "                    partial_y_train,\n",
        "                    epochs=10,\n",
        "                    batch_size=500,\n",
        "                    validation_data=(x_val, y_val),\n",
        "                    verbose=1)"
      ],
      "execution_count": 34,
      "outputs": [
        {
          "output_type": "stream",
          "text": [
            "Epoch 1/10\n",
            "99/99 [==============================] - 5s 49ms/step - loss: 0.8923 - accuracy: 0.7975 - val_loss: 2.1515 - val_accuracy: 0.5332\n",
            "Epoch 2/10\n",
            "99/99 [==============================] - 5s 47ms/step - loss: 0.0642 - accuracy: 0.9971 - val_loss: 2.7813 - val_accuracy: 0.5256\n",
            "Epoch 3/10\n",
            "99/99 [==============================] - 5s 48ms/step - loss: 0.0151 - accuracy: 0.9992 - val_loss: 3.1131 - val_accuracy: 0.5208\n",
            "Epoch 4/10\n",
            "99/99 [==============================] - 5s 47ms/step - loss: 0.0081 - accuracy: 0.9992 - val_loss: 3.3380 - val_accuracy: 0.5210\n",
            "Epoch 5/10\n",
            "99/99 [==============================] - 5s 49ms/step - loss: 0.0061 - accuracy: 0.9993 - val_loss: 3.5311 - val_accuracy: 0.5208\n",
            "Epoch 6/10\n",
            "99/99 [==============================] - 5s 48ms/step - loss: 0.0054 - accuracy: 0.9992 - val_loss: 3.6729 - val_accuracy: 0.5158\n",
            "Epoch 7/10\n",
            "99/99 [==============================] - 5s 48ms/step - loss: 0.0042 - accuracy: 0.9992 - val_loss: 3.7510 - val_accuracy: 0.5154\n",
            "Epoch 8/10\n",
            "99/99 [==============================] - 5s 48ms/step - loss: 0.0043 - accuracy: 0.9993 - val_loss: 3.9188 - val_accuracy: 0.5110\n",
            "Epoch 9/10\n",
            "99/99 [==============================] - 5s 48ms/step - loss: 0.0035 - accuracy: 0.9994 - val_loss: 4.0588 - val_accuracy: 0.5180\n",
            "Epoch 10/10\n",
            "99/99 [==============================] - 5s 48ms/step - loss: 0.0034 - accuracy: 0.9994 - val_loss: 4.1397 - val_accuracy: 0.5194\n"
          ],
          "name": "stdout"
        }
      ]
    },
    {
      "cell_type": "code",
      "metadata": {
        "id": "iDMjvDK7-UC9",
        "colab_type": "code",
        "colab": {}
      },
      "source": [
        "pr = model.predict(test.text.values)"
      ],
      "execution_count": 0,
      "outputs": []
    },
    {
      "cell_type": "code",
      "metadata": {
        "id": "tv_1n1scHP1r",
        "colab_type": "code",
        "colab": {
          "base_uri": "https://localhost:8080/",
          "height": 34
        },
        "outputId": "cb4e8498-ee07-4b6a-be0d-caaca721a1b7"
      },
      "source": [
        "len(np.argmax(pr, axis=-1))"
      ],
      "execution_count": 39,
      "outputs": [
        {
          "output_type": "execute_result",
          "data": {
            "text/plain": [
              "54200"
            ]
          },
          "metadata": {
            "tags": []
          },
          "execution_count": 39
        }
      ]
    },
    {
      "cell_type": "code",
      "metadata": {
        "id": "kUXWaSvtHRDD",
        "colab_type": "code",
        "colab": {
          "base_uri": "https://localhost:8080/",
          "height": 34
        },
        "outputId": "84c3d4c9-9dc8-4b07-85d7-60ea7a69d929"
      },
      "source": [
        "len(test)"
      ],
      "execution_count": 40,
      "outputs": [
        {
          "output_type": "execute_result",
          "data": {
            "text/plain": [
              "54200"
            ]
          },
          "metadata": {
            "tags": []
          },
          "execution_count": 40
        }
      ]
    },
    {
      "cell_type": "code",
      "metadata": {
        "id": "CHZwsMtnHtx3",
        "colab_type": "code",
        "colab": {}
      },
      "source": [
        ""
      ],
      "execution_count": 0,
      "outputs": []
    }
  ]
}